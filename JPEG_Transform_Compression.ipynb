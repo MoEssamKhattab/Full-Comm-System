{
 "cells": [
  {
   "cell_type": "code",
   "execution_count": 1,
   "metadata": {
    "id": "O3bwhazWUWiT"
   },
   "outputs": [],
   "source": [
    "import numpy as np"
   ]
  },
  {
   "cell_type": "code",
   "execution_count": 17,
   "metadata": {
    "id": "MgZNk0KUlBg5"
   },
   "outputs": [],
   "source": [
    "from enum import Enum\n",
    "\n",
    "class CompressionMode(Enum):\n",
    "    \"\"\"\n",
    "    Compression mode enum class\n",
    "    \"\"\"\n",
    "    LOW = 1\n",
    "    HIGH = 2\n"
   ]
  },
  {
   "cell_type": "markdown",
   "metadata": {
    "id": "aRlnJRydXsmx"
   },
   "source": [
    "**Module 0: read_image**"
   ]
  },
  {
   "cell_type": "code",
   "execution_count": 2,
   "metadata": {
    "id": "m9ZhU_3sX-Vs"
   },
   "outputs": [],
   "source": [
    "N = 8"
   ]
  },
  {
   "cell_type": "code",
   "execution_count": 3,
   "metadata": {
    "id": "tJ6pyWHDXzIP"
   },
   "outputs": [],
   "source": [
    "from PIL import Image\n",
    "import numpy as np\n",
    "\n",
    "def read_image(image_path, N):\n",
    "    \"\"\"\n",
    "    Read image and convert it to a numpy array in grayscale\n",
    "    :param image_path: path to the image\n",
    "    :param N: block size (N*N)\n",
    "    :return: image array, and padding length and width\n",
    "    \"\"\"\n",
    "\n",
    "    # Load the image\n",
    "    image = Image.open(image_path)\n",
    "\n",
    "    #image to gray scale\n",
    "    image = image.convert('L')\n",
    "\n",
    "    image_array = np.array(image)\n",
    "\n",
    "    img_lenght, img_width = image_array.shape\n",
    "\n",
    "    padding_length = 0\n",
    "    padding_width = 0\n",
    "\n",
    "    # check if the image is divisible by N and zero pad if necessary\n",
    "    if img_lenght % N != 0:\n",
    "        padding_length = N - img_lenght % N\n",
    "        image_array = np.concatenate((image_array, np.zeros((padding_length, img_width))), axis=0)\n",
    "\n",
    "    if img_width % N != 0:\n",
    "        padding_width = N - img_width % N\n",
    "        image_array = np.concatenate((image_array, np.zeros((img_lenght, padding_width))), axis=1)\n",
    "\n",
    "    return image_array, padding_length, padding_width"
   ]
  },
  {
   "cell_type": "code",
   "execution_count": 5,
   "metadata": {
    "id": "CKfmufmvefhB"
   },
   "outputs": [],
   "source": [
    "def read_image(image_path, N):\n",
    "    \"\"\"\n",
    "    Read image and convert it to a numpy array in grayscale\n",
    "    :param image_path: path to the image\n",
    "    :param N: block size (N*N)\n",
    "    :return: image array, and padding length and width\n",
    "    \"\"\"\n",
    "\n",
    "    # Load the image\n",
    "    image = Image.open(image_path)\n",
    "\n",
    "    #image to gray scale\n",
    "    image = image.convert('L')\n",
    "\n",
    "    image_array = np.array(image)\n",
    "\n",
    "    img_lenght, img_width = image_array.shape\n",
    "\n",
    "    # save gray scale image\n",
    "\n",
    "    padding_length = 0\n",
    "    padding_width = 0\n",
    "\n",
    "    # check if the image is divisible by N and zero pad if necessary\n",
    "    if img_lenght % N != 0:\n",
    "        padding_length = N - img_lenght % N\n",
    "        image_array = np.concatenate((image_array, np.zeros((padding_length, img_width))), axis=0)\n",
    "\n",
    "    if img_width % N != 0:\n",
    "        padding_width = N - img_width % N\n",
    "        image_array = np.concatenate((image_array, np.zeros((img_lenght, padding_width))), axis=1)\n",
    "\n",
    "    return image_array, padding_length, padding_width"
   ]
  },
  {
   "cell_type": "code",
   "execution_count": 7,
   "metadata": {
    "id": "gBKsjKTaX1fv"
   },
   "outputs": [],
   "source": [
    "image_path = \"/content/palestine.jpg\"\n",
    "image_array, padding_length, padding_width = read_image(image_path, N)"
   ]
  },
  {
   "cell_type": "markdown",
   "metadata": {
    "id": "slFI15_oIWck"
   },
   "source": [
    "**Module 1: Blockify**"
   ]
  },
  {
   "cell_type": "code",
   "execution_count": 8,
   "metadata": {
    "id": "BYiRBW01IDVY"
   },
   "outputs": [],
   "source": [
    "def blockify_image(image_array, N):\n",
    "    \"\"\"\n",
    "    Divide an image array into blocks of size (N*N).\n",
    "    :param image_array: numpy array of image\n",
    "    :param N: size of blocks (N*N)\n",
    "    :return: list of blocks each of shape (N*N)\n",
    "    \"\"\"\n",
    "    img_lenght, img_width = image_array.shape\n",
    "\n",
    "    blocks = image_array.reshape(img_lenght // N, N, img_width // N, N)\n",
    "    blocks = blocks.swapaxes(1, 2)\n",
    "\n",
    "    return blocks"
   ]
  },
  {
   "cell_type": "code",
   "execution_count": 9,
   "metadata": {
    "colab": {
     "base_uri": "https://localhost:8080/"
    },
    "id": "4leU4QrbUBm2",
    "outputId": "d5fec5a3-625e-49a1-8eaf-143e88569283"
   },
   "outputs": [
    {
     "data": {
      "text/plain": [
       "array([[[[ 1,  2,  3,  4],\n",
       "         [ 9, 10, 11, 12],\n",
       "         [17, 18, 19, 20],\n",
       "         [25, 26, 27, 28]],\n",
       "\n",
       "        [[ 5,  6,  7,  8],\n",
       "         [13, 14, 15, 16],\n",
       "         [21, 22, 23, 24],\n",
       "         [29, 30, 31, 32]]],\n",
       "\n",
       "\n",
       "       [[[33, 34, 35, 36],\n",
       "         [41, 42, 43, 44],\n",
       "         [49, 50, 51, 52],\n",
       "         [57, 58, 59, 60]],\n",
       "\n",
       "        [[37, 38, 39, 40],\n",
       "         [45, 46, 47, 48],\n",
       "         [53, 54, 55, 56],\n",
       "         [61, 62, 63, 64]]]])"
      ]
     },
     "execution_count": 9,
     "metadata": {},
     "output_type": "execute_result"
    }
   ],
   "source": [
    "test = np.array([[1,2,3,4,5,6,7,8,],\n",
    "[9,10,11,12,13,14,15,16,],\n",
    "[17,18,19,20,21,22,23,24,],\n",
    "[25,26,27,28,29,30,31,32,],\n",
    "[33,34,35,36,37,38,39,40,],\n",
    "[41,42,43,44,45,46,47,48,],\n",
    "[49,50,51,52,53,54,55,56,],\n",
    "[57,58,59,60,61,62,63,64,],])\n",
    "\n",
    "block_test = blockify_image(test,4)\n",
    "\n",
    "block_test"
   ]
  },
  {
   "cell_type": "markdown",
   "metadata": {
    "id": "NWTCMS2NiLDG"
   },
   "source": [
    "\n",
    "**Deblockify**"
   ]
  },
  {
   "cell_type": "code",
   "execution_count": 14,
   "metadata": {
    "colab": {
     "base_uri": "https://localhost:8080/"
    },
    "id": "e3SwD9nviwSv",
    "outputId": "0e54eb01-0c41-4e98-a218-0037aef29414"
   },
   "outputs": [
    {
     "data": {
      "text/plain": [
       "array([[ 1,  2,  3,  4,  5,  6,  7,  8],\n",
       "       [ 9, 10, 11, 12, 13, 14, 15, 16],\n",
       "       [17, 18, 19, 20, 21, 22, 23, 24],\n",
       "       [25, 26, 27, 28, 29, 30, 31, 32],\n",
       "       [33, 34, 35, 36, 37, 38, 39, 40],\n",
       "       [41, 42, 43, 44, 45, 46, 47, 48],\n",
       "       [49, 50, 51, 52, 53, 54, 55, 56],\n",
       "       [57, 58, 59, 60, 61, 62, 63, 64]])"
      ]
     },
     "execution_count": 14,
     "metadata": {},
     "output_type": "execute_result"
    }
   ],
   "source": [
    "def deblockify_image(blocks):\n",
    "    \"\"\"\n",
    "    Reconstruct an image from its blocks\n",
    "    :param blocks: list of blocks\n",
    "    :return: image array\n",
    "    \"\"\"\n",
    "    N = len(blocks[0][0])               # block size\n",
    "    image_length = len(blocks) * N      # number of vertical blocks * block size\n",
    "    image_width = len(blocks[0]) * N    # number of horizontal blocks * block size\n",
    "\n",
    "    image_array = blocks.reshape(image_length // N, image_width // N, N, N)\n",
    "    image_array = image_array.swapaxes(1, 2).reshape(-1, image_length, image_width).squeeze()\n",
    "\n",
    "    return image_array\n",
    "\n",
    "test_deblock = deblockify_image(block_test)\n",
    "\n",
    "test_deblock"
   ]
  },
  {
   "cell_type": "markdown",
   "metadata": {
    "id": "tfJp4-E9jSze"
   },
   "source": []
  },
  {
   "cell_type": "markdown",
   "metadata": {
    "id": "ipqq2gi2QKnb"
   },
   "source": [
    "**Module 2: DCT**"
   ]
  },
  {
   "cell_type": "code",
   "execution_count": 10,
   "metadata": {
    "id": "iiCLmFofQRIm"
   },
   "outputs": [],
   "source": [
    "import numpy as np\n",
    "\n",
    "def DCT_Basis(u, v, N):\n",
    "    \"\"\"\n",
    "    Return the DCT Basis function for u,v and N\n",
    "    :param u: the horizontal frequency index of the DCT output\n",
    "    :param v: the vertical frequency index of the DCT output\n",
    "    :param N: size of block (N*N)\n",
    "    :return: DCT Basis function for given u and v\n",
    "    \"\"\"\n",
    "    b = np.zeros((N,N))\n",
    "    for x in range(N):\n",
    "        for y in range(N):\n",
    "            b[x][y] = np.cos((2 * x + 1) * u * np.pi / (2 * N)) * np.cos((2 * y + 1) * v * np.pi / (2 * N))\n",
    "\n",
    "    return b\n",
    "\n",
    "def DCT(A, dct_basis):\n",
    "    \"\"\"\n",
    "    Return the DCT of a block\n",
    "    :param A: numpy array of the block\n",
    "    :param dct_basis: List of DCT Basis function\n",
    "    :return: DCT of A\n",
    "    \"\"\"\n",
    "    N = len(A)\n",
    "    C = np.zeros((N,N))\n",
    "\n",
    "    for u in range(N):\n",
    "        for v in range(N):\n",
    "            C[u][v] = np.sum(np.multiply(A, dct_basis[u][v]))\n",
    "\n",
    "    #Normalization\n",
    "    C = C/16\n",
    "    C[0,:] = C[0,:]/2\n",
    "    C[:,0] = C[:,0]/2\n",
    "    #C = np.round(C)\n",
    "\n",
    "    return C"
   ]
  },
  {
   "cell_type": "code",
   "execution_count": 11,
   "metadata": {
    "colab": {
     "base_uri": "https://localhost:8080/"
    },
    "id": "EkPB3MYSUbg9",
    "outputId": "37e69d6c-597c-49e8-e214-9a7af58cc19a"
   },
   "outputs": [
    {
     "data": {
      "text/plain": [
       "array([[ 3.25000000e+01, -3.22116151e+00, -8.88178420e-15,\n",
       "        -3.36727400e-01,  8.88178420e-16, -1.00451452e-01,\n",
       "        -8.88178420e-15, -2.53511614e-02],\n",
       "       [-2.57692921e+01, -3.55271368e-15,  1.77635684e-15,\n",
       "         0.00000000e+00,  0.00000000e+00, -8.43769499e-15,\n",
       "         6.21724894e-15,  4.44089210e-15],\n",
       "       [-6.21724894e-15,  1.11022302e-15,  4.44089210e-16,\n",
       "        -1.11022302e-16,  0.00000000e+00, -3.33066907e-16,\n",
       "        -2.22044605e-16, -4.44089210e-16],\n",
       "       [-2.69381920e+00, -6.66133815e-16, -8.88178420e-16,\n",
       "        -3.33066907e-16,  0.00000000e+00, -1.66533454e-15,\n",
       "         3.33066907e-16,  1.49880108e-15],\n",
       "       [ 2.22044605e-16, -6.66133815e-16, -1.11022302e-15,\n",
       "         3.33066907e-16, -6.66133815e-16, -9.99200722e-16,\n",
       "         2.22044605e-16,  3.88578059e-16],\n",
       "       [-8.03611615e-01, -8.88178420e-16, -1.11022302e-16,\n",
       "        -1.11022302e-15, -8.88178420e-16, -2.22044605e-16,\n",
       "         5.55111512e-16,  1.11022302e-16],\n",
       "       [-8.43769499e-15,  1.11022302e-16, -3.33066907e-16,\n",
       "         3.88578059e-16, -2.22044605e-16,  1.11022302e-16,\n",
       "        -1.44328993e-15,  2.22044605e-16],\n",
       "       [-2.02809291e-01,  4.71844785e-16, -3.88578059e-16,\n",
       "        -8.32667268e-17,  3.88578059e-16, -4.44089210e-16,\n",
       "         4.99600361e-16, -6.38378239e-16]])"
      ]
     },
     "execution_count": 11,
     "metadata": {},
     "output_type": "execute_result"
    }
   ],
   "source": [
    "dct_basis = np.zeros((N,N,N,N))\n",
    "\n",
    "for u in range(N):\n",
    "    for v in range(N):\n",
    "        dct_basis[u][v] = DCT_Basis(u,v,N)\n",
    "\n",
    "test_dct = DCT(test, dct_basis)\n",
    "\n",
    "test_dct"
   ]
  },
  {
   "cell_type": "markdown",
   "metadata": {
    "id": "GL8NKBOnjXlf"
   },
   "source": [
    "**IDCT**"
   ]
  },
  {
   "cell_type": "code",
   "execution_count": 16,
   "metadata": {
    "colab": {
     "base_uri": "https://localhost:8080/"
    },
    "id": "uX_sKZA3jahK",
    "outputId": "796d9e51-6935-4daa-b9fe-b7912524ca0d"
   },
   "outputs": [
    {
     "data": {
      "text/plain": [
       "array([[ 1.,  2.,  3.,  4.,  5.,  6.,  7.,  8.],\n",
       "       [ 9., 10., 11., 12., 13., 14., 15., 16.],\n",
       "       [17., 18., 19., 20., 21., 22., 23., 24.],\n",
       "       [25., 26., 27., 28., 29., 30., 31., 32.],\n",
       "       [33., 34., 35., 36., 37., 38., 39., 40.],\n",
       "       [41., 42., 43., 44., 45., 46., 47., 48.],\n",
       "       [49., 50., 51., 52., 53., 54., 55., 56.],\n",
       "       [57., 58., 59., 60., 61., 62., 63., 64.]])"
      ]
     },
     "execution_count": 16,
     "metadata": {},
     "output_type": "execute_result"
    }
   ],
   "source": [
    "def IDCT_Basis(x, y, N):\n",
    "    \"\"\"\n",
    "    Return the IDCT Basis function for x,y and N\n",
    "    :param x: the horizontal image index of the IDCT output\n",
    "    :param y: the vertical image index of the IDCT output\n",
    "    :param N: size of block (N*N)\n",
    "    :return: DCT Basis function for given x and y\n",
    "    \"\"\"\n",
    "    b = np.zeros((N, N))\n",
    "    for u in range(N):\n",
    "        for v in range(N):\n",
    "            b[u][v] = np.cos((2 * x + 1) * u * np.pi / (2 * N)) * np.cos((2 * y + 1) * v * np.pi / (2 * N))\n",
    "\n",
    "    return b\n",
    "\n",
    "def IDCT(C, idct_basis):\n",
    "    \"\"\"\n",
    "    Return the IDCT of a block\n",
    "    :param C: numpy array of the block\n",
    "    :param idct_basis: List of IDCT Basis function\n",
    "    :return: IDCT of C\n",
    "    \"\"\"\n",
    "    N = len(C)\n",
    "    A = np.zeros((N,N))\n",
    "\n",
    "    for x in range(N):\n",
    "        for y in range(N):\n",
    "            basis = idct_basis[x][y]\n",
    "            A[x][y] = np.sum(np.multiply(C, basis))\n",
    "\n",
    "    return A\n",
    "\n",
    "idct_basis = np.zeros((N,N,N,N))\n",
    "\n",
    "for x in range(N):\n",
    "    for y in range(N):\n",
    "        idct_basis[x][y] = IDCT_Basis(x,y,N)\n",
    "\n",
    "test_idct = IDCT(test_dct, idct_basis)\n",
    "\n",
    "test_idct"
   ]
  },
  {
   "cell_type": "markdown",
   "metadata": {
    "id": "KtnwjvHETrYq"
   },
   "source": [
    "**Module 3: Quantizer**"
   ]
  },
  {
   "cell_type": "code",
   "execution_count": 19,
   "metadata": {
    "id": "uum63JT0luRJ"
   },
   "outputs": [],
   "source": [
    "compression_mode = CompressionMode.LOW"
   ]
  },
  {
   "cell_type": "code",
   "execution_count": 20,
   "metadata": {
    "colab": {
     "base_uri": "https://localhost:8080/"
    },
    "id": "AKwML-iNUAAe",
    "outputId": "87284b9f-242f-44c2-f0da-4d5e02153476"
   },
   "outputs": [
    {
     "data": {
      "text/plain": [
       "array([[ 1.,  2.,  3.,  4.,  5.,  3.,  4.,  2.],\n",
       "       [ 9., 10., 11., 12., 13.,  7.,  8.,  4.],\n",
       "       [17., 18., 19., 20., 10., 11., 12.,  6.],\n",
       "       [25., 26., 27., 28., 14., 15.,  8.,  4.],\n",
       "       [33., 34., 18., 18., 18., 19., 10.,  5.],\n",
       "       [20., 21., 22., 22., 22., 12.,  6.,  6.],\n",
       "       [24., 25., 26., 13., 13.,  7.,  7.,  4.],\n",
       "       [14., 14., 15., 15.,  8.,  8.,  4.,  4.]])"
      ]
     },
     "execution_count": 20,
     "metadata": {},
     "output_type": "execute_result"
    }
   ],
   "source": [
    "def get_quantization_table(CompressionMode):\n",
    "    \"\"\"\n",
    "    Get quantization table based on compression mode\n",
    "    :param CompressionMode: enum class\n",
    "    :return: quantization table\n",
    "    \"\"\"\n",
    "    if CompressionMode == CompressionMode.LOW:\n",
    "        return np.array([[1, 1, 1, 1, 1, 2, 2, 4],\n",
    "                        [1, 1, 1, 1, 1, 2, 2, 4],\n",
    "                        [1, 1, 1, 1, 2, 2, 2, 4],\n",
    "                        [1, 1, 1, 1, 2, 2, 4, 8],\n",
    "                        [1, 1, 2, 2, 2, 2, 4, 8],\n",
    "                        [2, 2, 2, 2, 2, 4, 8, 8],\n",
    "                        [2, 2, 2, 4, 4, 8, 8, 16],\n",
    "                        [4, 4, 4, 4, 8, 8, 16, 16]])\n",
    "    elif CompressionMode == CompressionMode.HIGH:\n",
    "        return np.array([[1, 2, 4, 8, 16, 32, 64, 128],\n",
    "                        [2, 4, 4, 8, 16, 32, 64, 128],\n",
    "                        [4, 4, 8, 16, 32, 64, 128, 128],\n",
    "                        [8, 8, 16, 32, 64, 128, 128, 256],\n",
    "                        [16, 16, 32, 64, 128, 128, 256, 256],\n",
    "                        [32, 32, 64, 128, 128, 256, 256, 256],\n",
    "                        [64, 64, 128, 128, 256, 256, 256, 256],\n",
    "                        [128, 128, 128, 256, 256, 256, 256, 256]])\n",
    "    else:\n",
    "        raise ValueError('Invalid compression mode. Valid modes are: low, high')\n",
    "\n",
    "def quantize(block, CompressionMode):\n",
    "    \"\"\"\n",
    "    Quantize a block based on compression mode\n",
    "    :param block: numpy array of block\n",
    "    :param CompressionMode: enum class\n",
    "    :return: quantized block\n",
    "    \"\"\"\n",
    "    return np.round(np.divide(block, get_quantization_table(CompressionMode)))\n",
    "\n",
    "\n",
    "test_quantized = quantize(test, compression_mode)\n",
    "\n",
    "test_quantized"
   ]
  },
  {
   "cell_type": "markdown",
   "metadata": {
    "id": "5qQqxD_clPlE"
   },
   "source": [
    "**Dequantizer**"
   ]
  },
  {
   "cell_type": "code",
   "execution_count": 23,
   "metadata": {
    "colab": {
     "base_uri": "https://localhost:8080/"
    },
    "id": "9zxGwYWPlPLO",
    "outputId": "04cabc51-35c6-4aa3-925f-8e19dcc3ecba"
   },
   "outputs": [
    {
     "data": {
      "text/plain": [
       "array([[ 1.,  2.,  3.,  4.,  5.,  6.,  8.,  8.],\n",
       "       [ 9., 10., 11., 12., 13., 14., 16., 16.],\n",
       "       [17., 18., 19., 20., 20., 22., 24., 24.],\n",
       "       [25., 26., 27., 28., 28., 30., 32., 32.],\n",
       "       [33., 34., 36., 36., 36., 38., 40., 40.],\n",
       "       [40., 42., 44., 44., 44., 48., 48., 48.],\n",
       "       [48., 50., 52., 52., 52., 56., 56., 64.],\n",
       "       [56., 56., 60., 60., 64., 64., 64., 64.]])"
      ]
     },
     "execution_count": 23,
     "metadata": {},
     "output_type": "execute_result"
    }
   ],
   "source": [
    "def dequantize(block, CompressionMode):\n",
    "    \"\"\"\n",
    "    Dequantize a block based on compression mode\n",
    "    :param block: numpy array of block\n",
    "    :param CompressionMode: enum class\n",
    "    :return: dequantized block\n",
    "    \"\"\"\n",
    "    return np.round(np.multiply(block, get_quantization_table(CompressionMode)))\n",
    "\n",
    "test_dequantized = dequantize(test_quantized, compression_mode)\n",
    "test_dequantized"
   ]
  },
  {
   "cell_type": "markdown",
   "metadata": {
    "id": "EJ-sqPBsnT-g"
   },
   "source": [
    "**zigzag transform (2D to 1D)**"
   ]
  },
  {
   "cell_type": "code",
   "execution_count": 24,
   "metadata": {
    "colab": {
     "base_uri": "https://localhost:8080/"
    },
    "id": "jjssPQtvnfTm",
    "outputId": "9e473c5c-981c-48ab-e585-1831c5217f3e"
   },
   "outputs": [
    {
     "data": {
      "text/plain": [
       "array([ 1.,  2.,  9., 17., 10.,  3.,  4., 11., 18., 25., 33., 26., 19.,\n",
       "       12.,  5.,  6., 13., 20., 27., 34., 41., 49., 42., 35., 28., 21.,\n",
       "       14.,  7.,  8., 15., 22., 29., 36., 43., 50., 57., 58., 51., 44.,\n",
       "       37., 30., 23., 16., 24., 31., 38., 45., 52., 59., 60., 53., 46.,\n",
       "       39., 32., 40., 47., 54., 61., 62., 55., 48., 56., 63., 64.])"
      ]
     },
     "execution_count": 24,
     "metadata": {},
     "output_type": "execute_result"
    }
   ],
   "source": [
    "def get_zigzag_indices(N):\n",
    "    \"\"\"\n",
    "    Return the zigzag transform for a block of size N*N\n",
    "    :param N: size of block (N*N)\n",
    "    :return: 1D array zigzag transform for a 2D block of size (N*N)\n",
    "    \"\"\"\n",
    "\n",
    "    zigzag_indices = [(i,j) for i in range(N) for j in range(N)]\n",
    "    zigzag_indices.sort(key = lambda x: (x[0]+ x[1], x[1]) if (x[0]+x[1])%2 == 0 else (x[0]+x[1], x[0]))\n",
    "\n",
    "    return zigzag_indices\n",
    "\n",
    "def zigzag_transform(block):\n",
    "    \"\"\"\n",
    "    Return 1d array zigzag-traversed from the 2d block (N*N)\n",
    "    :param block: 2d block (N*N)\n",
    "    :return: 1d array (N*N)\n",
    "    \"\"\"\n",
    "    N = block.shape[0]\n",
    "\n",
    "    zigzag_indices = get_zigzag_indices(N)\n",
    "\n",
    "    _1d_array = np.zeros(N*N)\n",
    "\n",
    "    for i,zigzag_index in enumerate(zigzag_indices):\n",
    "        _1d_array[i] = block[zigzag_index[0], zigzag_index[1]]\n",
    "\n",
    "    return _1d_array\n",
    "\n",
    "test_1d = zigzag_transform(test)\n",
    "\n",
    "test_1d"
   ]
  },
  {
   "cell_type": "markdown",
   "metadata": {
    "id": "SUdAL3Y0n13T"
   },
   "source": [
    "**Reverse Zigzag transform**"
   ]
  },
  {
   "cell_type": "code",
   "execution_count": 26,
   "metadata": {
    "colab": {
     "base_uri": "https://localhost:8080/"
    },
    "id": "DQw87IIioFT8",
    "outputId": "20a27dcb-20a6-46e4-8ce5-ddc427def168"
   },
   "outputs": [
    {
     "data": {
      "text/plain": [
       "array([[ 1.,  2.,  3.,  4.,  5.,  6.,  7.,  8.],\n",
       "       [ 9., 10., 11., 12., 13., 14., 15., 16.],\n",
       "       [17., 18., 19., 20., 21., 22., 23., 24.],\n",
       "       [25., 26., 27., 28., 29., 30., 31., 32.],\n",
       "       [33., 34., 35., 36., 37., 38., 39., 40.],\n",
       "       [41., 42., 43., 44., 45., 46., 47., 48.],\n",
       "       [49., 50., 51., 52., 53., 54., 55., 56.],\n",
       "       [57., 58., 59., 60., 61., 62., 63., 64.]])"
      ]
     },
     "execution_count": 26,
     "metadata": {},
     "output_type": "execute_result"
    }
   ],
   "source": [
    "def reverse_zigzag_transform(_1d_array, N):\n",
    "    \"\"\"\n",
    "    Return 2d block (N*N) from the 1d array zigzag-traversed\n",
    "    :param _1d_array: 1d array (N*N)\n",
    "    :param N: size of block\n",
    "    :return: 2d block (N*N)\n",
    "    \"\"\"\n",
    "    zigzag_indices = get_zigzag_indices(N)\n",
    "\n",
    "    block = np.zeros((N,N))\n",
    "\n",
    "    for i,zigzag_index in enumerate(zigzag_indices):\n",
    "        block[zigzag_index[0], zigzag_index[1]] = _1d_array[i]\n",
    "\n",
    "    return block\n",
    "\n",
    "test_rev_zig = reverse_zigzag_transform(test_1d, N)\n",
    "test_rev_zig"
   ]
  },
  {
   "cell_type": "markdown",
   "metadata": {
    "id": "o-jQQLStTsQ3"
   },
   "source": [
    "**Module 5: Run-Length Encoder**"
   ]
  },
  {
   "cell_type": "code",
   "execution_count": 28,
   "metadata": {
    "colab": {
     "base_uri": "https://localhost:8080/"
    },
    "id": "Y7s7FH1NUAkG",
    "outputId": "fc08242b-1770-459c-9a46-9a12b6872647"
   },
   "outputs": [
    {
     "data": {
      "text/plain": [
       "array([ 1.,  2.,  3.,  4.,  5.,  6.,  7.,  8.,  9., 10., 11., 12., 13.,\n",
       "       14., 15., 16., 17., 18., 19., 20., 21., 22., 23., 24.,  0.,  8.,\n",
       "       33., 34., 35., 36., 37., 38., 39., 40., 41., 42., 43., 44., 45.,\n",
       "       46., 47., 48.,  0., 16.])"
      ]
     },
     "execution_count": 28,
     "metadata": {},
     "output_type": "execute_result"
    }
   ],
   "source": [
    "def run_length_encoder(image):\n",
    "    \"\"\"\n",
    "    Run-Length Encoder for binary image compression.\n",
    "\n",
    "    Parameters:\n",
    "    - image (numpy.ndarray): Input binary image represented as a NumPy array.\n",
    "\n",
    "    Returns:\n",
    "    - numpy.ndarray: Encoded array containing alternating counts of consecutive zeros and non-zero values.\n",
    "\n",
    "    Description:\n",
    "    This function takes a binary image represented as a NumPy array and performs run-length encoding on it.\n",
    "    \"\"\"\n",
    "    zeros_count = 0\n",
    "    length = image.shape\n",
    "    encoded = np.array([])\n",
    "    for i in range(length[0]):\n",
    "        if image[i] == 0:\n",
    "            if zeros_count == 0:\n",
    "                encoded = np.append(encoded, 0)\n",
    "            zeros_count += 1\n",
    "        else:\n",
    "            if zeros_count != 0:\n",
    "                encoded = np.append(encoded, zeros_count)\n",
    "                zeros_count = 0\n",
    "            encoded = np.append(encoded, image[i])\n",
    "    if zeros_count != 0:\n",
    "        encoded = np.append(encoded,zeros_count)\n",
    "    return encoded\n",
    "\n",
    "\n",
    "x = np.array([[ 1.,  2.,  3.,  4.,  5.,  6.,  7.,  8.],\n",
    "       [ 9., 10., 11., 12., 13., 14., 15., 16.],\n",
    "       [17., 18., 19., 20., 21., 22., 23., 24.],\n",
    "       [0, 0, 0, 0, 0, 0, 0, 0, ],\n",
    "       [33., 34., 35., 36., 37., 38., 39., 40.],\n",
    "       [41., 42., 43., 44., 45., 46., 47., 48.],\n",
    "       [0, 0, 0, 0, 0, 0, 0, 0, ],\n",
    "       [0, 0, 0, 0, 0, 0, 0, 0, ]]).reshape(1,-1).squeeze()\n",
    "\n",
    "run_len_coded = run_length_encoder(x)\n",
    "run_len_coded"
   ]
  },
  {
   "cell_type": "markdown",
   "metadata": {
    "id": "_QRR2BzlpQqf"
   },
   "source": [
    "**Run-Length-Decoder**"
   ]
  },
  {
   "cell_type": "code",
   "execution_count": 30,
   "metadata": {
    "colab": {
     "base_uri": "https://localhost:8080/"
    },
    "id": "6Bkm5fxqpWUw",
    "outputId": "14d61057-c4d1-4ef0-f61a-f4d6e08e6458"
   },
   "outputs": [
    {
     "data": {
      "text/plain": [
       "array([ 1.,  2.,  3.,  4.,  5.,  6.,  7.,  8.,  9., 10., 11., 12., 13.,\n",
       "       14., 15., 16., 17., 18., 19., 20., 21., 22., 23., 24.,  0.,  0.,\n",
       "        0.,  0.,  0.,  0.,  0.,  0., 33., 34., 35., 36., 37., 38., 39.,\n",
       "       40., 41., 42., 43., 44., 45., 46., 47., 48.,  0.,  0.,  0.,  0.,\n",
       "        0.,  0.,  0.,  0.,  0.,  0.,  0.,  0.,  0.,  0.,  0.,  0.])"
      ]
     },
     "execution_count": 30,
     "metadata": {},
     "output_type": "execute_result"
    }
   ],
   "source": [
    "def run_length_decoder(encoded,no_vertical_blocks,no_horizontal_blocks,N):\n",
    "    \"\"\"\n",
    "    Decode the encoded image\n",
    "    :param encoded: encoded image\n",
    "    :param no_vertical_blocks: Number of vertical blocks\n",
    "    :param no_horizontal_blocks: Number of horizontal blocks\n",
    "    :param N: block size (N*N)\n",
    "    :return: decoded image\n",
    "    \"\"\"\n",
    "    total_image_length = N*N*no_horizontal_blocks*no_vertical_blocks\n",
    "\n",
    "    encoded_len = encoded.shape\n",
    "    image = np.zeros(total_image_length)\n",
    "    idx = 0\n",
    "    for i in range(encoded_len[0]):\n",
    "        if encoded[i - 1] == 0:\n",
    "            continue\n",
    "        if encoded[i] == 0:\n",
    "            for j in range(int(encoded[i+1])):\n",
    "                image[idx] = 0\n",
    "                idx += 1\n",
    "        else:\n",
    "            image[idx] = encoded[i]\n",
    "            idx += 1\n",
    "    return image\n",
    "\n",
    "\n",
    "run_len_dec = run_length_decoder(run_len_coded, 4, 4, 2)\n",
    "run_len_dec"
   ]
  },
  {
   "cell_type": "markdown",
   "metadata": {
    "id": "fjq6md-XTsf9"
   },
   "source": [
    "**Module 6: Huffman Encoder**"
   ]
  },
  {
   "cell_type": "code",
   "execution_count": 31,
   "metadata": {
    "id": "zVBAx2AqUA-2"
   },
   "outputs": [],
   "source": [
    "import heapq  # Import the heapq module for the priority queue implementation\n",
    "\n",
    "class HuffmanNode:\n",
    "    def __init__(self, symbol=None, frequency=None):\n",
    "        self.symbol = symbol\n",
    "        self.frequency = frequency\n",
    "        self.left = None\n",
    "        self.right = None\n",
    "\n",
    "    def __lt__(self, other):\n",
    "        return self.frequency < other.frequency\n",
    "\n",
    "# Function to build the Huffman tree from symbol frequencies\n",
    "def build_huffman_tree(frequencies):\n",
    "    heap = [HuffmanNode(symbol=s, frequency=f) for s, f in frequencies.items()]  # Create a heap with HuffmanNodes\n",
    "    heapq.heapify(heap)  # Convert the list into a min-heap data structure, the min-heap -> follows the property of a complete binary tree in which the value of the internal node is smaller than or equal to the value of the children of that node\n",
    "\n",
    "    while len(heap) > 1:\n",
    "        left = heapq.heappop(heap)  # Pop the smallest node from the heap, note -> left is a HuffmanNode\n",
    "        right = heapq.heappop(heap)  # Pop the second smallest node from the heap\n",
    "\n",
    "        internal_node = HuffmanNode(frequency=left.frequency + right.frequency)  # Create a new internal node\n",
    "        internal_node.left = left  # Assign the left child\n",
    "        internal_node.right = right  # Assign the right child\n",
    "\n",
    "        heapq.heappush(heap, internal_node)  # Push the new internal node back into the heap\n",
    "\n",
    "    return heap[0]  # Return the root of the Huffman tree\n",
    "\n",
    "# Function to generate Huffman codes from the Huffman tree\n",
    "def generate_huffman_codes(node, current_code=\"\", codes=None):\n",
    "    if codes is None:\n",
    "        codes = {}\n",
    "\n",
    "    if node.symbol is not None:\n",
    "        codes[node.symbol] = current_code\n",
    "    else:\n",
    "        generate_huffman_codes(node.left, current_code + \"0\", codes)  # Recursively traverse left with '0'\n",
    "        generate_huffman_codes(node.right, current_code + \"1\", codes)  # Recursively traverse right with '1'\n",
    "\n",
    "    return codes\n"
   ]
  },
  {
   "cell_type": "code",
   "execution_count": 32,
   "metadata": {
    "colab": {
     "base_uri": "https://localhost:8080/",
     "height": 72
    },
    "id": "UpP9ohO7gLrP",
    "outputId": "ffe8f737-b109-4e55-cb3b-98679e9b7fc5"
   },
   "outputs": [
    {
     "data": {
      "application/vnd.google.colaboratory.intrinsic+json": {
       "type": "string"
      },
      "text/plain": [
       "'1010100100010110111100000111110101101100011111001110011001101101111101001111011010011110100000010101100101010111001001001011011101101100001110001110001010111111000010110100001100000010001010111110000101110111001111111001001111101100011101'"
      ]
     },
     "execution_count": 32,
     "metadata": {},
     "output_type": "execute_result"
    }
   ],
   "source": [
    "from collections import defaultdict, Counter  # Import defaultdict and Counter for convenient data structures\n",
    "\n",
    "# Function to encode data using Huffman codes\n",
    "def huffman_encode(data):\n",
    "    frequencies = Counter(data)  # Count the frequency of each symbol in the input data\n",
    "    root = build_huffman_tree(frequencies)  # Build the Huffman tree\n",
    "    codes = generate_huffman_codes(root)  # Generate Huffman codes from the tree\n",
    "\n",
    "    encoded_data = \"\".join(codes[symbol] for symbol in data)  # Encode the input data using Huffman codes\n",
    "    return encoded_data, root  # Return the encoded data and the Huffman tree root\n",
    "\n",
    "huff_coded, tree = huffman_encode(run_len_coded)\n",
    "\n",
    "huff_coded"
   ]
  },
  {
   "cell_type": "markdown",
   "metadata": {
    "id": "eVLamhM3qac2"
   },
   "source": [
    "**Huffman Decoder**"
   ]
  },
  {
   "cell_type": "code",
   "execution_count": 35,
   "metadata": {
    "colab": {
     "base_uri": "https://localhost:8080/"
    },
    "id": "k3Lv7wOqqZp8",
    "outputId": "4a292ef3-1fcf-48a7-80e7-e6c87f58c9e3"
   },
   "outputs": [
    {
     "data": {
      "text/plain": [
       "[1.0,\n",
       " 2.0,\n",
       " 3.0,\n",
       " 4.0,\n",
       " 5.0,\n",
       " 6.0,\n",
       " 7.0,\n",
       " 8.0,\n",
       " 9.0,\n",
       " 10.0,\n",
       " 11.0,\n",
       " 12.0,\n",
       " 13.0,\n",
       " 14.0,\n",
       " 15.0,\n",
       " 16.0,\n",
       " 17.0,\n",
       " 18.0,\n",
       " 19.0,\n",
       " 20.0,\n",
       " 21.0,\n",
       " 22.0,\n",
       " 23.0,\n",
       " 24.0,\n",
       " 0.0,\n",
       " 8.0,\n",
       " 33.0,\n",
       " 34.0,\n",
       " 35.0,\n",
       " 36.0,\n",
       " 37.0,\n",
       " 38.0,\n",
       " 39.0,\n",
       " 40.0,\n",
       " 41.0,\n",
       " 42.0,\n",
       " 43.0,\n",
       " 44.0,\n",
       " 45.0,\n",
       " 46.0,\n",
       " 47.0,\n",
       " 48.0,\n",
       " 0.0,\n",
       " 16.0]"
      ]
     },
     "execution_count": 35,
     "metadata": {},
     "output_type": "execute_result"
    }
   ],
   "source": [
    "# Function to decode Huffman-encoded data\n",
    "def huffman_decode(encoded_data, root):\n",
    "    decoded_data = []\n",
    "    current_node = root\n",
    "\n",
    "    for bit in encoded_data:\n",
    "        if bit == \"0\":\n",
    "            current_node = current_node.left  # Traverse left with '0'\n",
    "        else:\n",
    "            current_node = current_node.right  # Traverse right with '1'\n",
    "\n",
    "        if current_node.symbol is not None:\n",
    "            decoded_data.append(current_node.symbol)  # Append the symbol when a leaf node is reached\n",
    "            current_node = root  # Reset to the root for the next symbol\n",
    "\n",
    "    return decoded_data  # Return the decoded data\n",
    "\n",
    "dec_data = huffman_decode(huff_coded, tree)\n",
    "\n",
    "dec_data"
   ]
  },
  {
   "cell_type": "markdown",
   "source": [
    "**Module 7: Finite Precision Arithmetic Encoder**"
   ],
   "metadata": {
    "collapsed": false
   }
  },
  {
   "cell_type": "markdown",
   "source": [
    "**Encoder**"
   ],
   "metadata": {
    "collapsed": false
   }
  },
  {
   "cell_type": "code",
   "execution_count": 5,
   "outputs": [],
   "source": [
    "from collections import Counter\n",
    "import numpy as np\n",
    "\n",
    "def calculate_frequencies(input_stream):\n",
    "    element_counts = Counter(input_stream.tolist())  # Convert NumPy array to list\n",
    "    return dict(element_counts)\n",
    "\n",
    "\n",
    "def calculate_cumulative_frequency(symbol, frequency_dictionary):\n",
    "    cumulative_frequency = 0\n",
    "    for s in frequency_dictionary:\n",
    "        cumulative_frequency += frequency_dictionary[s]\n",
    "        if s == symbol:\n",
    "            break\n",
    "    return cumulative_frequency\n",
    "\n",
    "\n",
    "\n",
    "\n",
    "def arithmetic_encode(input_stream, precision=32):\n",
    "    \"\"\"\n",
    "    Encode a message using arithmetic coding.\n",
    "\n",
    "    Parameters:\n",
    "    - input_stream (numpy.ndarray): The input message to be encoded.\n",
    "    - precision (int): The precision of the arithmetic coding (default is 32).\n",
    "\n",
    "    Returns:\n",
    "    - encoded_code (str): The binary-encoded message.\n",
    "    - frequency_dict (dict): A dictionary containing symbol frequencies.\n",
    "    \"\"\"\n",
    "\n",
    "    # Append termination symbol '!'\n",
    "    input_stream = np.append(input_stream, np.array('!'))\n",
    "    stream_size = len(input_stream)\n",
    "\n",
    "    # Calculate symbol frequencies\n",
    "    frequency_dict = calculate_frequencies(input_stream)\n",
    "\n",
    "    # Initialization\n",
    "    full_range = 2 ** precision\n",
    "    half_range = full_range // 2\n",
    "    quarter_range = half_range // 2\n",
    "    lower_limit = 0\n",
    "    upper_limit = full_range\n",
    "    trails = 0\n",
    "    encoded_code = []\n",
    "\n",
    "    # Loop through symbols in the input stream\n",
    "    for symbol in input_stream:\n",
    "        frequency_symbol = frequency_dict[symbol]\n",
    "        cumulative_frequency_high = calculate_cumulative_frequency(symbol, frequency_dict)\n",
    "        cumulative_frequency_low = cumulative_frequency_high - frequency_symbol\n",
    "        range_size = upper_limit - lower_limit\n",
    "\n",
    "        # Update upper and lower limits based on cumulative frequencies\n",
    "        upper_limit = lower_limit + range_size * cumulative_frequency_high // stream_size\n",
    "        lower_limit = lower_limit + range_size * cumulative_frequency_low // stream_size\n",
    "\n",
    "        # Binary scaling\n",
    "        while True:\n",
    "            if upper_limit < half_range:\n",
    "                encoded_code.append('0')\n",
    "                encoded_code.append('1' * trails)\n",
    "                trails = 0\n",
    "                lower_limit *= 2\n",
    "                upper_limit *= 2\n",
    "            elif lower_limit >= half_range:\n",
    "                encoded_code.append('1')\n",
    "                encoded_code.append('0' * trails)\n",
    "                trails = 0\n",
    "                lower_limit = 2 * (lower_limit - half_range)\n",
    "                upper_limit = 2 * (upper_limit - half_range)\n",
    "            elif lower_limit >= quarter_range and upper_limit < 3 * quarter_range:\n",
    "                trails += 1\n",
    "                lower_limit = 2 * (lower_limit - quarter_range)\n",
    "                upper_limit = 2 * (upper_limit - quarter_range)\n",
    "            else:\n",
    "                break\n",
    "\n",
    "    # Finalize encoding\n",
    "    trails += 1\n",
    "    if lower_limit <= quarter_range:\n",
    "        encoded_code.append('0')\n",
    "        encoded_code.append('1' * trails)\n",
    "    else:\n",
    "        encoded_code.append('1')\n",
    "        encoded_code.append('0' * trails)\n",
    "\n",
    "    # Convert the encoded code to a string\n",
    "    encoded_code = ''.join(encoded_code)\n",
    "\n",
    "    # Return the encoded code and symbol frequencies\n",
    "    return encoded_code, frequency_dict\n"
   ],
   "metadata": {
    "collapsed": false,
    "ExecuteTime": {
     "end_time": "2024-01-10T01:22:24.106619136Z",
     "start_time": "2024-01-10T01:22:24.065360798Z"
    }
   }
  },
  {
   "cell_type": "markdown",
   "source": [
    "**Decoder**"
   ],
   "metadata": {
    "collapsed": false
   }
  },
  {
   "cell_type": "code",
   "execution_count": 6,
   "outputs": [],
   "source": [
    "# Main function for arithmetic decoding\n",
    "def arithmetic_decode(encoded_code, frequency_dictionary, precision=32):\n",
    "    \"\"\"\n",
    "    Decode an arithmetic encoded message.\n",
    "\n",
    "    Parameters:\n",
    "    - encoded_code (str): The binary-encoded message to be decoded.\n",
    "    - frequency_dictionary (dict): A dictionary containing symbol frequencies.\n",
    "    - precision (int): The precision of the arithmetic coding (default is 32).\n",
    "\n",
    "    Returns:\n",
    "    - decoded_message (list): The decoded message as a list of integers.\n",
    "    \"\"\"\n",
    "\n",
    "    # Initialization\n",
    "    code_size = len(encoded_code)\n",
    "    encoded_code = [int(c) for c in encoded_code]\n",
    "    stream_size = sum(frequency_dictionary.values())\n",
    "    full = 2 ** precision\n",
    "    half = full // 2\n",
    "    quarter = half // 2\n",
    "    low_range = 0\n",
    "    high_range = full\n",
    "    decoded_value = 0\n",
    "    index = 1\n",
    "    decoded_message = []\n",
    "\n",
    "    # Decode initial value\n",
    "    while index <= precision and index <= code_size:\n",
    "        if encoded_code[index - 1] == 1:\n",
    "            decoded_value = decoded_value + 2 ** (precision - index)\n",
    "        index += 1\n",
    "\n",
    "    flag = 1\n",
    "\n",
    "    # Main decoding loop\n",
    "    while flag:\n",
    "        # Iterate through symbols in the frequency dictionary\n",
    "        for symbol in frequency_dictionary:\n",
    "            frequency_symbol = frequency_dictionary[symbol]\n",
    "            cumulative_frequency_high = calculate_cumulative_frequency(symbol, frequency_dictionary)\n",
    "            cumulative_frequency_low = cumulative_frequency_high - frequency_symbol\n",
    "            range_size = high_range - low_range\n",
    "            high_range_new = low_range + range_size * cumulative_frequency_high // stream_size\n",
    "            low_range_new = low_range + range_size * cumulative_frequency_low // stream_size\n",
    "\n",
    "            # Check if the decoded value falls within the current symbol's range\n",
    "            if low_range_new <= decoded_value < high_range_new:\n",
    "                decoded_message.extend([symbol])\n",
    "                low_range = low_range_new\n",
    "                high_range = high_range_new\n",
    "\n",
    "                # Check for the termination symbol '!'\n",
    "                if symbol == '!':\n",
    "                    flag = 0\n",
    "                break\n",
    "\n",
    "        # Binary scaling and updating decoded value\n",
    "        while True:\n",
    "            if high_range < half:\n",
    "                # Update ranges and decoded value for low range\n",
    "                low_range *= 2\n",
    "                high_range *= 2\n",
    "                decoded_value *= 2\n",
    "                if index <= code_size:\n",
    "                    decoded_value += encoded_code[index - 1]\n",
    "                    index += 1\n",
    "            elif low_range >= half:\n",
    "                # Update ranges and decoded value for high range\n",
    "                low_range = 2 * (low_range - half)\n",
    "                high_range = 2 * (high_range - half)\n",
    "                decoded_value = 2 * (decoded_value - half)\n",
    "                if index <= code_size:\n",
    "                    decoded_value += encoded_code[index - 1]\n",
    "                    index += 1\n",
    "            elif low_range >= quarter and high_range < 3 * quarter:\n",
    "                # Additional scaling for certain ranges\n",
    "                low_range = 2 * (low_range - quarter)\n",
    "                high_range = 2 * (high_range - quarter)\n",
    "                decoded_value = 2 * (decoded_value - quarter)\n",
    "                if index <= code_size:\n",
    "                    decoded_value += encoded_code[index - 1]\n",
    "                    index += 1\n",
    "            else:\n",
    "                break\n",
    "\n",
    "    # Remove the termination symbol and convert symbols to integers\n",
    "    decoded_message.pop()\n",
    "    decoded_message = [int(float(c)) for c in decoded_message]\n",
    "\n",
    "    # Return the decoded message\n",
    "    return decoded_message\n"
   ],
   "metadata": {
    "collapsed": false,
    "ExecuteTime": {
     "end_time": "2024-01-10T01:22:24.973568887Z",
     "start_time": "2024-01-10T01:22:24.965022627Z"
    }
   }
  },
  {
   "cell_type": "markdown",
   "source": [
    "**Testing Module**"
   ],
   "metadata": {
    "collapsed": false
   }
  },
  {
   "cell_type": "code",
   "execution_count": 7,
   "outputs": [
    {
     "name": "stdout",
     "output_type": "stream",
     "text": [
      "String initially [1, 2, 5, 56, 21, 6454, 21, 95, 3, 1, 231, 54, 21, 32, 25, 4, 21, 32, 655, 4, 496, 1232]\n",
      "Encoded Data 0000001000010001110111110111000100000011000011011010010010011000000111010110100000111110110\n",
      "Decoded Data [1, 2, 5, 56, 21, 6454, 21, 95, 3, 1, 231, 54, 21, 32, 25, 4, 21, 32, 655, 4, 496, 1232]\n"
     ]
    }
   ],
   "source": [
    "s = [1,2,5,56,21,6454,21,95,3,1,231,54,21,32,25,4,21,32,655,4,496,1232]\n",
    "\n",
    "print(f\"String initially {s}\")\n",
    "\n",
    "encoded_data, dict = arithmetic_encode(s)\n",
    "\n",
    "print(f\"Encoded Data {encoded_data}\")\n",
    "\n",
    "decoded_data = arithmetic_decode(encoded_data,dict)\n",
    "\n",
    "print(f\"Decoded Data {decoded_data}\")\n"
   ],
   "metadata": {
    "collapsed": false,
    "ExecuteTime": {
     "end_time": "2024-01-10T01:22:25.908593141Z",
     "start_time": "2024-01-10T01:22:25.901804938Z"
    }
   }
  },
  {
   "cell_type": "markdown",
   "source": [
    "**Module 8: Convolutional Channel Encoding**"
   ],
   "metadata": {
    "collapsed": false
   }
  },
  {
   "cell_type": "markdown",
   "source": [
    "**Encoder**"
   ],
   "metadata": {
    "collapsed": false
   }
  },
  {
   "cell_type": "code",
   "execution_count": 8,
   "outputs": [],
   "source": [
    "def xor_char(a, b):\n",
    "    if (a == '0' and b == '0') or (a == '1' and b == '1'):\n",
    "        return '0'\n",
    "    else:\n",
    "        return '1'\n",
    "\n",
    "\n",
    "def xor_sequence(A):\n",
    "    C = '0'\n",
    "    for a in A:\n",
    "        C = xor_char(C, a)\n",
    "\n",
    "    return C\n",
    "\n",
    "\n",
    "def encode_sequence_with_polynomial(A, polynomial):\n",
    "    C = ''\n",
    "    for i in range(len(A)):\n",
    "        if polynomial[i] == 0:\n",
    "            C += '0'\n",
    "        else:\n",
    "            C += A[i]\n",
    "    return xor_sequence(C)\n",
    "\n",
    "\n",
    "\n",
    "def convert_sequence_to_string(sequence):\n",
    "    \"\"\"\n",
    "    Convert a list of sequences into a single string.\n",
    "\n",
    "    Parameters:\n",
    "    - sequence (list): List of sequences.\n",
    "\n",
    "    Returns:\n",
    "    - S (list): List of characters representing the converted sequence.\n",
    "    \"\"\"\n",
    "    S = []\n",
    "    for i in range(len(sequence[0])):\n",
    "        for j in range(len(sequence)):\n",
    "            S.append(sequence[j][i])\n",
    "    return S\n",
    "\n",
    "\n",
    "\n",
    "def encode(A, generator_polynomials, k):\n",
    "    \"\"\"\n",
    "    Encode a binary sequence using a set of generator polynomials and a given block size.\n",
    "\n",
    "    Parameters:\n",
    "    - A (str): Binary sequence to be encoded.\n",
    "    - generator_polynomials (list): List of generator polynomials for encoding.\n",
    "    - k (int): Block size for encoding.\n",
    "\n",
    "    Returns:\n",
    "    - encoded_sequence_string (list): List of characters representing the encoded sequence.\n",
    "    \"\"\"\n",
    "    A = '0' * (k - 1) + A\n",
    "    encoded_sequences = []\n",
    "\n",
    "    # Iterate through each generator polynomial for encoding.\n",
    "    for polynomial in generator_polynomials:\n",
    "        C = ''\n",
    "\n",
    "        # Iterate through each block of the binary sequence.\n",
    "        for i in range(len(A) - k + 1):\n",
    "            curr_list = A[i:i + k]\n",
    "            curr_list = curr_list[::-1]\n",
    "\n",
    "            # Encode the current block using the specified polynomial.\n",
    "            C += encode_sequence_with_polynomial(curr_list, polynomial)\n",
    "\n",
    "        # Append the encoded sequence for the current polynomial.\n",
    "        encoded_sequences.append(C)\n",
    "\n",
    "    # Convert the list of encoded sequences into a single string.\n",
    "    encoded_sequence_string = convert_sequence_to_string(encoded_sequences)\n",
    "\n",
    "    return encoded_sequence_string"
   ],
   "metadata": {
    "collapsed": false,
    "ExecuteTime": {
     "end_time": "2024-01-10T01:27:26.466493945Z",
     "start_time": "2024-01-10T01:27:26.428834080Z"
    }
   }
  },
  {
   "cell_type": "markdown",
   "source": [
    "**Decoder**"
   ],
   "metadata": {
    "collapsed": false
   }
  },
  {
   "cell_type": "code",
   "execution_count": 9,
   "outputs": [],
   "source": [
    "def generate_binary_sequences(n):\n",
    "    binary_sequences = [bin(i)[2:].zfill(n) for i in range(2 ** n)]\n",
    "    return binary_sequences\n",
    "\n",
    "states = None\n",
    "generator_polynomials_example = [[1, 1, 1], [0, 1, 1], [1, 0, 1]]\n",
    "\n",
    "# Path Metric\n",
    "pathes = {\n",
    "    \"00\": [\"00\", \"10\"],\n",
    "    \"01\": [\"00\", \"10\"],\n",
    "    \"10\": [\"01\", \"11\"],\n",
    "    \"11\": [\"01\", \"11\"]\n",
    "}\n",
    "\n",
    "\n",
    "def state_generator(bits, generator_polynomials, k):\n",
    "    dict = {}\n",
    "    binary_seq = generate_binary_sequences(bits)\n",
    "    for seq in binary_seq:\n",
    "        dict[seq] = []\n",
    "    for seq in binary_seq:\n",
    "        for bit in ['0', '1']:\n",
    "            encoded_sequences = []\n",
    "            for polynomial in generator_polynomials:\n",
    "                C = ''\n",
    "                for i in range(len(seq) - k + 2):\n",
    "                    C += encode_sequence_with_polynomial(bit + seq, polynomial)\n",
    "                encoded_sequences.append(C)\n",
    "            encoded_sequence_string = convert_sequence_to_string(encoded_sequences)\n",
    "            dict[seq].append(encoded_sequence_string)\n",
    "    return dict\n",
    "\n",
    "\n",
    "def binary_string_to_array(input_str):\n",
    "    while len(input_str) % 3 != 0:\n",
    "        input_str += '0'\n",
    "    result_array = [input_str[i:i + 3] for i in range(0, len(input_str), 3)]\n",
    "    return result_array\n",
    "\n",
    "\n",
    "def compare_bits_with_array(main_str, str_array):\n",
    "    result_array = []\n",
    "    for str_in_array in str_array:\n",
    "        if len(main_str) != len(str_in_array):\n",
    "            raise ValueError(\"Input strings must have the same length\")\n",
    "\n",
    "        mismatch_count = sum(bit1 != bit2 for bit1, bit2 in zip(main_str, str_in_array))\n",
    "        result_array.append(mismatch_count)\n",
    "    return result_array\n",
    "\n",
    "\n",
    "def combine_two_routes(route1, route2):\n",
    "    combined_route = {\n",
    "        \"to\": route2[\"to\"],\n",
    "        \"value\": route1[\"value\"] + route2[\"value\"],\n",
    "        \"dist\": route1[\"dist\"] + route2[\"dist\"]\n",
    "    }\n",
    "    return combined_route\n",
    "\n",
    "\n",
    "def check_path(routes, to):\n",
    "    for route in routes:\n",
    "        if route[\"to\"] == to:\n",
    "            return route\n",
    "    return None\n",
    "\n",
    "\n",
    "def drop_duplicates(routes):\n",
    "    unique_routes = []\n",
    "\n",
    "    for route in routes:\n",
    "        duplicate_found = False\n",
    "        for existing_route in unique_routes:\n",
    "            if route[\"to\"] == existing_route[\"to\"]:\n",
    "                if route[\"dist\"] < existing_route[\"dist\"]:\n",
    "                    existing_route.update(route)\n",
    "                duplicate_found = True\n",
    "                break\n",
    "\n",
    "        if not duplicate_found:\n",
    "            unique_routes.append(route)\n",
    "\n",
    "    return unique_routes\n",
    "\n",
    "\n",
    "def min_dist_value(routes):\n",
    "    if not routes:\n",
    "        return None\n",
    "    min_dist_route = min(routes, key=lambda x: x[\"dist\"])\n",
    "    return min_dist_route[\"value\"]\n",
    "\n",
    "\n",
    "def decode(sequence, generator_polynomials, k):\n",
    "    states = state_generator(k - 1, generator_polynomials, 3)\n",
    "    two_routes = []\n",
    "    four_routes = []\n",
    "    arr_strings = binary_string_to_array(sequence)\n",
    "    for i in range(len(arr_strings)):\n",
    "        eight_routes = []\n",
    "        if i == 0:\n",
    "            hamming_dist = compare_bits_with_array(arr_strings[i], [\"000\", \"111\"])\n",
    "            two_routes.append({\n",
    "                \"to\": pathes[\"00\"][0],\n",
    "                \"value\": \"0\",\n",
    "                \"dist\": hamming_dist[0]\n",
    "            })\n",
    "            two_routes.append({\n",
    "                \"to\": pathes[\"00\"][1],\n",
    "                \"value\": \"1\",\n",
    "                \"dist\": hamming_dist[1]\n",
    "            })\n",
    "\n",
    "        elif i == 1:\n",
    "            for state in pathes[\"00\"]:\n",
    "                hamming_dist = compare_bits_with_array(arr_strings[i], states[state])\n",
    "                one_before = check_path(two_routes, state)\n",
    "                for index in range(2):\n",
    "                    temp_route = {\n",
    "                        \"to\": pathes[state][index],\n",
    "                        \"value\": str(index),\n",
    "                        \"dist\": hamming_dist[index]\n",
    "                    }\n",
    "\n",
    "                    combined_route = combine_two_routes(one_before, temp_route)\n",
    "\n",
    "                    four_routes.append(combined_route)\n",
    "\n",
    "        else:\n",
    "            for key, value in states.items():\n",
    "                hamming_dist = compare_bits_with_array(arr_strings[i], value)\n",
    "\n",
    "                for index in range(len(pathes[key])):\n",
    "                    temp_route = {\n",
    "                        \"to\": pathes[key][index],\n",
    "                        \"value\": str(index),\n",
    "                        \"dist\": hamming_dist[index]\n",
    "                    }\n",
    "                    one_before = check_path(four_routes, key)\n",
    "                    combined_route = combine_two_routes(one_before, temp_route)\n",
    "                    eight_routes.append(combined_route)\n",
    "            four_routes = drop_duplicates(eight_routes)\n",
    "    final_route = min_dist_value(four_routes)\n",
    "    return final_route\n"
   ],
   "metadata": {
    "collapsed": false,
    "ExecuteTime": {
     "end_time": "2024-01-10T01:28:42.467217360Z",
     "start_time": "2024-01-10T01:28:42.415751291Z"
    }
   }
  },
  {
   "cell_type": "code",
   "execution_count": 12,
   "outputs": [
    {
     "name": "stdout",
     "output_type": "stream",
     "text": [
      "String initially 10110011001110011001\n",
      "Encoded Data 111110010001011101111001011101111001100011101111001011101111\n",
      "Decoded Data 10110011001110011001\n"
     ]
    }
   ],
   "source": [
    "s = '10110011001110011001'\n",
    "K = 3\n",
    "generator_polynomials = [[1, 1, 1], [1, 1, 0], [1, 0, 1]]\n",
    "print(f\"String initially {s}\")\n",
    "\n",
    "encoded_data = encode(s,generator_polynomials,K)\n",
    "\n",
    "encoded_data = ''.join(encoded_data)\n",
    "\n",
    "print(f\"Encoded Data {encoded_data}\")\n",
    "\n",
    "decoded_data = decode(encoded_data,generator_polynomials,K)\n",
    "\n",
    "print(f\"Decoded Data {decoded_data}\")\n"
   ],
   "metadata": {
    "collapsed": false,
    "ExecuteTime": {
     "end_time": "2024-01-10T01:31:59.020246221Z",
     "start_time": "2024-01-10T01:31:59.008882442Z"
    }
   }
  },
  {
   "cell_type": "markdown",
   "source": [
    "**Module 9: BPSK Modulator**"
   ],
   "metadata": {
    "collapsed": false
   }
  },
  {
   "cell_type": "markdown",
   "source": [
    "**Transmitter**"
   ],
   "metadata": {
    "collapsed": false
   }
  },
  {
   "cell_type": "code",
   "execution_count": 13,
   "outputs": [],
   "source": [
    "import numpy as np\n",
    "\n",
    "\n",
    "def bpsk_transmitter(bit_seq, fc, Ab, Tb, n):\n",
    "    \"\"\"\n",
    "    BPSK transmitter\n",
    "    :param bit_seq: bit sequence\n",
    "    :param fc: carrier frequency\n",
    "    :param Ab: amplitude of message signal pulse\n",
    "    :param Tb: bit duration\n",
    "    :param n: number of samples per bit duration\n",
    "    :return: BPSK modulated signal\n",
    "    \"\"\"\n",
    "    if fc < 10 / Tb:\n",
    "        raise ValueError('Carrier frequency (fc) must be at least 10 times the the bit rate (1/Tb)')\n",
    "\n",
    "    num_bits = len(bit_seq)  # number of bits\n",
    "    n_total = num_bits * n  # total number of samples\n",
    "\n",
    "    # t_total = num_bits * Tb     # total time duration of symbol/bit\n",
    "    # dt = Tb/n\n",
    "    # t = np.arange(0, t_total, dt) # time axis\n",
    "\n",
    "    Eb = Ab ** 2 * Tb\n",
    "    basis_function = generate_basis_function(fc, Tb, n)\n",
    "    passbannd_signal = np.zeros(n_total)\n",
    "\n",
    "    for i in range(num_bits):\n",
    "        sign = (-1) ** (int(bit_seq[i]) + 1)  # bit 1 -> 1, bit 0 -> -1\n",
    "        passbannd_signal[i * n:(i + 1) * n] = sign * np.sqrt(Eb) * basis_function\n",
    "\n",
    "    return passbannd_signal  # , t\n",
    "\n",
    "\n",
    "def generate_basis_function(fc, Tb, n):\n",
    "    \"\"\"\n",
    "    Generate basis function for BPSK modulation\n",
    "    :param fc: carrier frequency\n",
    "    :param Tb: bit duration\n",
    "    :param n: number of samples per bit duration\n",
    "    :return: basis function\n",
    "    \"\"\"\n",
    "    dt = Tb / n\n",
    "    t_symbol = np.arange(0, Tb, dt)\n",
    "    return np.sqrt(2 / Tb) * np.cos(2 * np.pi * fc * t_symbol)\n"
   ],
   "metadata": {
    "collapsed": false,
    "ExecuteTime": {
     "end_time": "2024-01-10T01:34:40.598112600Z",
     "start_time": "2024-01-10T01:34:40.557072745Z"
    }
   }
  },
  {
   "cell_type": "markdown",
   "source": [
    "**Receiver**"
   ],
   "metadata": {
    "collapsed": false
   }
  },
  {
   "cell_type": "code",
   "execution_count": 14,
   "outputs": [],
   "source": [
    "def bpsk_receiver(received_signal, fc, Tb, n):\n",
    "    \"\"\"\n",
    "    BPSK correlator receiver\n",
    "    :param received_signal: received signal\n",
    "    :param fc: carrier frequency\n",
    "    :param Tb: bit duration\n",
    "    :param n: number of samples per bit duration\n",
    "    :return: restored bit sequence\n",
    "    \"\"\"\n",
    "    num_bits = len(received_signal) // n\n",
    "    restored_bit_seq = np.zeros(num_bits)\n",
    "\n",
    "    dt = Tb / n\n",
    "\n",
    "    basis_function = generate_basis_function(fc, Tb, n)\n",
    "\n",
    "    for i in range(num_bits):\n",
    "        symbol = received_signal[i * n:(i + 1) * n]\n",
    "        observable_element = detector(symbol, dt, basis_function)\n",
    "        restored_bit_seq[i] = 1 if observable_element > 0 else 0\n",
    "\n",
    "    return restored_bit_seq\n",
    "\n",
    "\n",
    "def detector(symbol, dt, basis_function):\n",
    "    \"\"\"\n",
    "    Correlator detector\n",
    "    :param symbol: symbol to be detected\n",
    "    :param t_symbol: time axis for symbol\n",
    "    :param basis_function: basis function\n",
    "    :return: observable element\n",
    "    \"\"\"\n",
    "    return np.trapz(np.multiply(symbol, basis_function), dx=dt)\n"
   ],
   "metadata": {
    "collapsed": false,
    "ExecuteTime": {
     "end_time": "2024-01-10T01:36:08.074753024Z",
     "start_time": "2024-01-10T01:36:08.021987625Z"
    }
   }
  },
  {
   "cell_type": "code",
   "execution_count": 15,
   "outputs": [
    {
     "name": "stdout",
     "output_type": "stream",
     "text": [
      "Signal Initially [1, 0, 1, 0, 1, 0, 1, 0, 1, 0, 0, 1, 1]\n",
      "Modulated Signal [1.41421356 1.41142293 1.40306207 ... 1.38916395 1.40306207 1.41142293]\n",
      "Demodulated Signal [1. 0. 1. 0. 1. 0. 1. 0. 1. 0. 0. 1. 1.]\n"
     ]
    }
   ],
   "source": [
    "signal = [1,0,1,0,1,0,1,0,1,0,0,1,1]\n",
    "\n",
    "fc = 0.1\n",
    "Ab = 1\n",
    "Tb = 100\n",
    "n = 1000\n",
    "\n",
    "print(f\"Signal Initially {signal}\")\n",
    "\n",
    "modulated_signal = bpsk_transmitter(signal,fc,Ab,Tb,n)\n",
    "\n",
    "print(f\"Modulated Signal {modulated_signal}\")\n",
    "\n",
    "demodulated_signal = bpsk_receiver(modulated_signal,fc,Tb,n)\n",
    "\n",
    "print(f\"Demodulated Signal {demodulated_signal}\")"
   ],
   "metadata": {
    "collapsed": false,
    "ExecuteTime": {
     "end_time": "2024-01-10T01:39:02.899170631Z",
     "start_time": "2024-01-10T01:39:02.837229105Z"
    }
   }
  }
 ],
 "metadata": {
  "colab": {
   "provenance": []
  },
  "kernelspec": {
   "name": "python3",
   "language": "python",
   "display_name": "Python 3 (ipykernel)"
  },
  "language_info": {
   "name": "python"
  }
 },
 "nbformat": 4,
 "nbformat_minor": 0
}
